{
 "cells": [
  {
   "cell_type": "code",
   "execution_count": 1,
   "metadata": {
    "collapsed": false
   },
   "outputs": [],
   "source": [
    "import numpy as np\n",
    "from xml.etree.ElementTree import QName\n",
    "import xml.etree.ElementTree\n",
    "import dill\n",
    "from tqdm import tqdm\n",
    "import shapefile # pip install pyshp\n",
    "from xml.etree.ElementTree import QName\n",
    "import xml.etree.ElementTree\n",
    "from tqdm import tqdm\n",
    "from bs4 import BeautifulSoup as bs\n",
    "import random\n",
    "import utm\n",
    "import json\n",
    "import shapely\n",
    "from shapely import geometry\n",
    "from matplotlib.pyplot import *\n",
    "%matplotlib inline"
   ]
  },
  {
   "cell_type": "markdown",
   "metadata": {},
   "source": [
    "# parse official S2 kml to dictionary"
   ]
  },
  {
   "cell_type": "code",
   "execution_count": 2,
   "metadata": {
    "collapsed": false
   },
   "outputs": [],
   "source": [
    "# https://sentinel.esa.int/web/sentinel/missions/sentinel-2/data-products # from here\n",
    "fn = \"./S2A_OPER_GIP_TILPAR_MPC__20151209T095117_V20150622T000000_21000101T000000_B00.kml\"\n",
    "namespace = \"http://www.opengis.net/kml/2.2\"\n",
    "\n",
    "def ss(name):\n",
    "    return str(QName(namespace,name))\n",
    "def fnd(xml_root,*pp):\n",
    "    bf = xml_root\n",
    "    for p in pp:\n",
    "        bf = bf.find(str(QName(namespace,p)))\n",
    "    return bf\n",
    "\n",
    "xml_root = xml.etree.ElementTree.parse(fn).getroot()\n",
    "pms = fnd(xml_root,*(\"Document\",\"Folder\")).findall(ss(\"Placemark\"))"
   ]
  },
  {
   "cell_type": "code",
   "execution_count": 3,
   "metadata": {
    "collapsed": false
   },
   "outputs": [
    {
     "name": "stderr",
     "output_type": "stream",
     "text": []
    }
   ],
   "source": [
    "def from_pm(pm):\n",
    "    res = {}\n",
    "    \n",
    "    name = fnd(pm,\"name\").text\n",
    "    zone = int(name[:2])\n",
    "    res[\"name\"] = name\n",
    "    res[\"zone\"] = zone\n",
    "    \n",
    "    desc = [sp.getText() for sp in bs(fnd(pm,\"description\").text,\"lxml\").findAll(\"td\")]\n",
    "    epsg = int(desc[desc.index(\"EPSG\")+1])\n",
    "    res[\"epsg\"] = epsg\n",
    "\n",
    "    try:\n",
    "        ele = fnd(pm,*(\"MultiGeometry\",\"Polygon\",\"outerBoundaryIs\",\"LinearRing\",\"coordinates\"))\n",
    "        coo = [[float(ff) for ff in st.split(\",\")[:2]][::-1] for st in ele.text.strip().split(\" \")][:-1] # list of lat/lon\n",
    "        coords = [{name:value for name,value in zip([\"lat\",\"lon\",\"x\",\"y\"],cc+list(utm.from_latlon(*cc,force_zone_number=zone))[:2])} for cc in coo]\n",
    "        mean_x = np.mean([co[\"x\"] for co in coords])\n",
    "        mean_y = np.mean([co[\"y\"] for co in coords])\n",
    "        pos = {}\n",
    "        for cord in coords:\n",
    "            lr = \"l\" if cord[\"x\"]<mean_x else \"r\"\n",
    "            lt = \"t\" if cord[\"y\"]>mean_y else \"l\"            \n",
    "            if \"%s%s\" % (lt,lr) in  pos:\n",
    "                raise utm.OutOfRangeError            \n",
    "            pos[\"%s%s\" % (lt,lr)] = cord    \n",
    "        res[\"pos\"] = pos\n",
    "    except utm.OutOfRangeError:\n",
    "        ele = fnd(pm,*(\"MultiGeometry\",\"Polygon\",\"outerBoundaryIs\",\"LinearRing\",\"coordinates\"))\n",
    "        coo = [[float(ff) for ff in st.split(\",\")[:2]][::-1] for st in ele.text.strip().split(\" \")][:-1] # list of lat/lon\n",
    "        pos = {pp:{name:value for name,value in zip([\"lat\",\"lon\"],cc)} for pp,cc in zip([\"p1\",\"p2\",\"p3\",\"p4\"],coo)}\n",
    "        res[\"pos\"] = pos\n",
    "    return name,res\n",
    "\n",
    "S2_tile_data = {}\n",
    "#for pm in tqdm(pms[31000:32010]):\n",
    "for pm in tqdm(pms):\n",
    "    name,dat = from_pm(pm)\n",
    "    S2_tile_data[name] = dat"
   ]
  },
  {
   "cell_type": "code",
   "execution_count": 4,
   "metadata": {
    "collapsed": false
   },
   "outputs": [
    {
     "data": {
      "image/png": "[encoded data removed]",
      "text/plain": [
       "<matplotlib.figure.Figure at 0x2b1612f58a58>"
      ]
     },
     "metadata": {},
     "output_type": "display_data"
    }
   ],
   "source": [
    "tl = S2_tile_data[random.choice(list(S2_tile_data.keys()))]\n",
    "order = [\"ll\",\"lr\",\"tr\",\"tl\",\"ll\"]\n",
    "plot([tl[\"pos\"][pp][\"lon\"] for pp in order],\n",
    "     [tl[\"pos\"][pp][\"lat\"] for pp in order])\n",
    "for pp in order:\n",
    "    text(tl[\"pos\"][pp][\"lon\"],tl[\"pos\"][pp][\"lat\"],pp)"
   ]
  },
  {
   "cell_type": "code",
   "execution_count": 5,
   "metadata": {
    "collapsed": true
   },
   "outputs": [],
   "source": [
    "res = {'res10_cols': 10980,'res10_rows': 10980,\n",
    "       'res20_cols': 5490,'res20_rows': 5490,\n",
    "       'res60_cols': 1830,'res60_rows': 1830}\n",
    "S2_tile_data[\"res\"] = res"
   ]
  },
  {
   "cell_type": "code",
   "execution_count": 6,
   "metadata": {
    "collapsed": false
   },
   "outputs": [],
   "source": [
    "with open(\"./S2_tile_data.json\",\"w\") as fl:\n",
    "    json.dump(S2_tile_data,fl)"
   ]
  },
  {
   "cell_type": "code",
   "execution_count": 7,
   "metadata": {
    "collapsed": false
   },
   "outputs": [
    {
     "name": "stdout",
     "output_type": "stream",
     "text": [
      "56687\n"
     ]
    }
   ],
   "source": [
    "with open(\"./S2_tile_data.json\",\"r\") as fl:\n",
    "    S2_tile_data = json.load(fl)\n",
    "print(len(S2_tile_data.keys()))"
   ]
  },
  {
   "cell_type": "code",
   "execution_count": 8,
   "metadata": {
    "collapsed": false
   },
   "outputs": [],
   "source": [
    "sf = shapefile.Reader(\"./world/world_countries_boundary_file_world_2002\")\n",
    "recs    = sf.records()\n",
    "shapes  = sf.shapes()\n",
    "Nshp    = len(shapes)"
   ]
  },
  {
   "cell_type": "code",
   "execution_count": 9,
   "metadata": {
    "collapsed": false
   },
   "outputs": [],
   "source": [
    "shapes_boxes = {rec[0]:{\"shpe\":shapely.geometry.shape(shape),\n",
    "                        \"box\":shapely.geometry.box(*shapely.geometry.shape(shape).bounds)} for rec,shape in zip(recs,shapes)}"
   ]
  },
  {
   "cell_type": "code",
   "execution_count": null,
   "metadata": {
    "collapsed": false,
    "scrolled": true
   },
   "outputs": [
    {
     "name": "stderr",
     "output_type": "stream",
     "text": [
      " 18%|█▊        | 9986/56687 [07:18<35:18, 22.05it/s]"
     ]
    }
   ],
   "source": [
    "for key,ti in S2_tile_data.items():\n",
    "    if \"pos\" in S2_tile_data[key]:\n",
    "        S2_tile_data[key][\"country\"] = []\n",
    "        S2_tile_data[key][\"region\"] = []\n",
    "\n",
    "for key,ti in tqdm(S2_tile_data.items()):\n",
    "    if \"pos\" in S2_tile_data[key]:\n",
    "    #if \"pos\" in S2_tile_data[key] and key == \"32UPC\":\n",
    "    #if \"pos\" in S2_tile_data[key] and key[:2] == \"32\":\n",
    "        for rec,shape in zip(recs,shapes):\n",
    "            shpe = shapes_boxes[rec[0]][\"shpe\"]\n",
    "            box = shapes_boxes[rec[0]][\"box\"]\n",
    "            in_box = False\n",
    "            for _,pt in ti[\"pos\"].items():         \n",
    "                if box.contains(shapely.geometry.Point(([pt[\"lon\"],pt[\"lat\"]]))):\n",
    "                    if shpe.contains(shapely.geometry.Point(([pt[\"lon\"],pt[\"lat\"]]))):\n",
    "                        in_box = True\n",
    "                        break\n",
    "                    \n",
    "            if in_box is True:\n",
    "                if rec[0] not in S2_tile_data[key][\"country\"]:\n",
    "                    S2_tile_data[key][\"country\"].append(rec[0])\n",
    "                if rec[-3] not in S2_tile_data[key][\"region\"]:\n",
    "                    S2_tile_data[key][\"region\"].append(rec[-3])"
   ]
  },
  {
   "cell_type": "code",
   "execution_count": null,
   "metadata": {
    "collapsed": false
   },
   "outputs": [],
   "source": [
    "S2_tile_data[\"32VMK\"],S2_tile_data[\"33UWV\"]"
   ]
  },
  {
   "cell_type": "code",
   "execution_count": null,
   "metadata": {
    "collapsed": false
   },
   "outputs": [],
   "source": [
    "with open(\"./S2_tile_data_full.json\",\"w\") as fl:\n",
    "    json.dump(S2_tile_data,fl)\n",
    "    \n",
    "S2_tile_data_short = {key:{pp:{pj:value[\"pos\"][pp][pj] for pj in [\"lon\",\"lat\"]} for pp in [\"ll\",\"tl\",\"lr\",\"tr\"]} for key,value in S2_tile_data.items() if key != \"res\" and \"p1\" not in value[\"pos\"]}\n",
    "with open(\"./S2_tile_data_lite.json\",\"w\") as fl:\n",
    "    json.dump(S2_tile_data_short,fl)"
   ]
  },
  {
   "cell_type": "code",
   "execution_count": null,
   "metadata": {
    "collapsed": true
   },
   "outputs": [],
   "source": []
  }
 ],
 "metadata": {
  "kernelspec": {
   "display_name": "Python 3",
   "language": "python",
   "name": "python3"
  },
  "language_info": {
   "codemirror_mode": {
    "name": "ipython",
    "version": 3
   },
   "file_extension": ".py",
   "mimetype": "text/x-python",
   "name": "python",
   "nbconvert_exporter": "python",
   "pygments_lexer": "ipython3",
   "version": "3.5.1"
  }
 },
 "nbformat": 4,
 "nbformat_minor": 0
}
